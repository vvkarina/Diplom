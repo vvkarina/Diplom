{
 "cells": [
  {
   "cell_type": "code",
   "execution_count": 1,
   "id": "460c6303-c53f-4fd9-b19f-f4fb3cd6a975",
   "metadata": {},
   "outputs": [
    {
     "ename": "BadZipFile",
     "evalue": "zipfiles that span multiple disks are not supported",
     "output_type": "error",
     "traceback": [
      "\u001b[0;31m---------------------------------------------------------------------------\u001b[0m",
      "\u001b[0;31mBadZipFile\u001b[0m                                Traceback (most recent call last)",
      "Cell \u001b[0;32mIn[1], line 13\u001b[0m\n\u001b[1;32m     10\u001b[0m os\u001b[38;5;241m.\u001b[39mmakedirs(output_dir, exist_ok\u001b[38;5;241m=\u001b[39m\u001b[38;5;28;01mTrue\u001b[39;00m)\n\u001b[1;32m     12\u001b[0m \u001b[38;5;66;03m# Разархивируем .zip файл\u001b[39;00m\n\u001b[0;32m---> 13\u001b[0m \u001b[38;5;28;01mwith\u001b[39;00m \u001b[43mzipfile\u001b[49m\u001b[38;5;241;43m.\u001b[39;49m\u001b[43mZipFile\u001b[49m\u001b[43m(\u001b[49m\u001b[43mzip_file_path\u001b[49m\u001b[43m,\u001b[49m\u001b[43m \u001b[49m\u001b[38;5;124;43m'\u001b[39;49m\u001b[38;5;124;43mr\u001b[39;49m\u001b[38;5;124;43m'\u001b[39;49m\u001b[43m)\u001b[49m \u001b[38;5;28;01mas\u001b[39;00m zip_ref:\n\u001b[1;32m     14\u001b[0m     zip_ref\u001b[38;5;241m.\u001b[39mextractall(output_dir)\n\u001b[1;32m     16\u001b[0m \u001b[38;5;28mprint\u001b[39m(\u001b[38;5;124mf\u001b[39m\u001b[38;5;124m\"\u001b[39m\u001b[38;5;124mАрхив успешно разархивирован в папку: \u001b[39m\u001b[38;5;132;01m{\u001b[39;00moutput_dir\u001b[38;5;132;01m}\u001b[39;00m\u001b[38;5;124m\"\u001b[39m)\n",
      "File \u001b[0;32m/opt/conda/lib/python3.10/zipfile.py:1271\u001b[0m, in \u001b[0;36mZipFile.__init__\u001b[0;34m(self, file, mode, compression, allowZip64, compresslevel, strict_timestamps)\u001b[0m\n\u001b[1;32m   1269\u001b[0m \u001b[38;5;28;01mtry\u001b[39;00m:\n\u001b[1;32m   1270\u001b[0m     \u001b[38;5;28;01mif\u001b[39;00m mode \u001b[38;5;241m==\u001b[39m \u001b[38;5;124m'\u001b[39m\u001b[38;5;124mr\u001b[39m\u001b[38;5;124m'\u001b[39m:\n\u001b[0;32m-> 1271\u001b[0m         \u001b[38;5;28;43mself\u001b[39;49m\u001b[38;5;241;43m.\u001b[39;49m\u001b[43m_RealGetContents\u001b[49m\u001b[43m(\u001b[49m\u001b[43m)\u001b[49m\n\u001b[1;32m   1272\u001b[0m     \u001b[38;5;28;01melif\u001b[39;00m mode \u001b[38;5;129;01min\u001b[39;00m (\u001b[38;5;124m'\u001b[39m\u001b[38;5;124mw\u001b[39m\u001b[38;5;124m'\u001b[39m, \u001b[38;5;124m'\u001b[39m\u001b[38;5;124mx\u001b[39m\u001b[38;5;124m'\u001b[39m):\n\u001b[1;32m   1273\u001b[0m         \u001b[38;5;66;03m# set the modified flag so central directory gets written\u001b[39;00m\n\u001b[1;32m   1274\u001b[0m         \u001b[38;5;66;03m# even if no files are added to the archive\u001b[39;00m\n\u001b[1;32m   1275\u001b[0m         \u001b[38;5;28mself\u001b[39m\u001b[38;5;241m.\u001b[39m_didModify \u001b[38;5;241m=\u001b[39m \u001b[38;5;28;01mTrue\u001b[39;00m\n",
      "File \u001b[0;32m/opt/conda/lib/python3.10/zipfile.py:1334\u001b[0m, in \u001b[0;36mZipFile._RealGetContents\u001b[0;34m(self)\u001b[0m\n\u001b[1;32m   1332\u001b[0m fp \u001b[38;5;241m=\u001b[39m \u001b[38;5;28mself\u001b[39m\u001b[38;5;241m.\u001b[39mfp\n\u001b[1;32m   1333\u001b[0m \u001b[38;5;28;01mtry\u001b[39;00m:\n\u001b[0;32m-> 1334\u001b[0m     endrec \u001b[38;5;241m=\u001b[39m \u001b[43m_EndRecData\u001b[49m\u001b[43m(\u001b[49m\u001b[43mfp\u001b[49m\u001b[43m)\u001b[49m\n\u001b[1;32m   1335\u001b[0m \u001b[38;5;28;01mexcept\u001b[39;00m \u001b[38;5;167;01mOSError\u001b[39;00m:\n\u001b[1;32m   1336\u001b[0m     \u001b[38;5;28;01mraise\u001b[39;00m BadZipFile(\u001b[38;5;124m\"\u001b[39m\u001b[38;5;124mFile is not a zip file\u001b[39m\u001b[38;5;124m\"\u001b[39m)\n",
      "File \u001b[0;32m/opt/conda/lib/python3.10/zipfile.py:289\u001b[0m, in \u001b[0;36m_EndRecData\u001b[0;34m(fpin)\u001b[0m\n\u001b[1;32m    286\u001b[0m     endrec\u001b[38;5;241m.\u001b[39mappend(filesize \u001b[38;5;241m-\u001b[39m sizeEndCentDir)\n\u001b[1;32m    288\u001b[0m     \u001b[38;5;66;03m# Try to read the \"Zip64 end of central directory\" structure\u001b[39;00m\n\u001b[0;32m--> 289\u001b[0m     \u001b[38;5;28;01mreturn\u001b[39;00m \u001b[43m_EndRecData64\u001b[49m\u001b[43m(\u001b[49m\u001b[43mfpin\u001b[49m\u001b[43m,\u001b[49m\u001b[43m \u001b[49m\u001b[38;5;241;43m-\u001b[39;49m\u001b[43msizeEndCentDir\u001b[49m\u001b[43m,\u001b[49m\u001b[43m \u001b[49m\u001b[43mendrec\u001b[49m\u001b[43m)\u001b[49m\n\u001b[1;32m    291\u001b[0m \u001b[38;5;66;03m# Either this is not a ZIP file, or it is a ZIP file with an archive\u001b[39;00m\n\u001b[1;32m    292\u001b[0m \u001b[38;5;66;03m# comment.  Search the end of the file for the \"end of central directory\"\u001b[39;00m\n\u001b[1;32m    293\u001b[0m \u001b[38;5;66;03m# record signature. The comment is the last item in the ZIP file and may be\u001b[39;00m\n\u001b[1;32m    294\u001b[0m \u001b[38;5;66;03m# up to 64K long.  It is assumed that the \"end of central directory\" magic\u001b[39;00m\n\u001b[1;32m    295\u001b[0m \u001b[38;5;66;03m# number does not appear in the comment.\u001b[39;00m\n\u001b[1;32m    296\u001b[0m maxCommentStart \u001b[38;5;241m=\u001b[39m \u001b[38;5;28mmax\u001b[39m(filesize \u001b[38;5;241m-\u001b[39m (\u001b[38;5;241m1\u001b[39m \u001b[38;5;241m<<\u001b[39m \u001b[38;5;241m16\u001b[39m) \u001b[38;5;241m-\u001b[39m sizeEndCentDir, \u001b[38;5;241m0\u001b[39m)\n",
      "File \u001b[0;32m/opt/conda/lib/python3.10/zipfile.py:235\u001b[0m, in \u001b[0;36m_EndRecData64\u001b[0;34m(fpin, offset, endrec)\u001b[0m\n\u001b[1;32m    232\u001b[0m     \u001b[38;5;28;01mreturn\u001b[39;00m endrec\n\u001b[1;32m    234\u001b[0m \u001b[38;5;28;01mif\u001b[39;00m diskno \u001b[38;5;241m!=\u001b[39m \u001b[38;5;241m0\u001b[39m \u001b[38;5;129;01mor\u001b[39;00m disks \u001b[38;5;241m>\u001b[39m \u001b[38;5;241m1\u001b[39m:\n\u001b[0;32m--> 235\u001b[0m     \u001b[38;5;28;01mraise\u001b[39;00m BadZipFile(\u001b[38;5;124m\"\u001b[39m\u001b[38;5;124mzipfiles that span multiple disks are not supported\u001b[39m\u001b[38;5;124m\"\u001b[39m)\n\u001b[1;32m    237\u001b[0m \u001b[38;5;66;03m# Assume no 'zip64 extensible data'\u001b[39;00m\n\u001b[1;32m    238\u001b[0m fpin\u001b[38;5;241m.\u001b[39mseek(offset \u001b[38;5;241m-\u001b[39m sizeEndCentDir64Locator \u001b[38;5;241m-\u001b[39m sizeEndCentDir64, \u001b[38;5;241m2\u001b[39m)\n",
      "\u001b[0;31mBadZipFile\u001b[0m: zipfiles that span multiple disks are not supported"
     ]
    }
   ],
   "source": [
    "import os\n",
    "import zipfile\n",
    "\n",
    "# Укажите директорию, где находятся архивы\n",
    "base_dir = \"/home/jovyan\"  # Папка с архивами\n",
    "output_dir = os.path.join(base_dir, \"cloudsprof\")  # Папка для разархивированных файлов\n",
    "zip_file_path = os.path.join(base_dir, \"fields_images_dataset.zip\")  # Путь к вашему .zip файлу\n",
    "\n",
    "# Создаём папку для результата\n",
    "os.makedirs(output_dir, exist_ok=True)\n",
    "\n",
    "# Разархивируем .zip файл\n",
    "with zipfile.ZipFile(zip_file_path, 'r') as zip_ref:\n",
    "    zip_ref.extractall(output_dir)\n",
    "\n",
    "print(f\"Архив успешно разархивирован в папку: {output_dir}\")"
   ]
  },
  {
   "cell_type": "code",
   "execution_count": 3,
   "id": "11c9fd5d-b745-41c6-abff-1cce9d5d8767",
   "metadata": {},
   "outputs": [
    {
     "name": "stdout",
     "output_type": "stream",
     "text": [
      "/usr/bin/sh: 1: 7z: not found\n"
     ]
    }
   ],
   "source": [
    "!7z x /home/jovyan/fields_images_dataset.zip -o/home/jovyan/cloudsprof"
   ]
  },
  {
   "cell_type": "code",
   "execution_count": 5,
   "id": "cb8abf71-b8c9-447a-8364-bc91a3fc659a",
   "metadata": {},
   "outputs": [
    {
     "name": "stdout",
     "output_type": "stream",
     "text": [
      "Найдены части архива: ['/home/jovyan/fields_images_dataset.z01', '/home/jovyan/fields_images_dataset.z02', '/home/jovyan/fields_images_dataset.z03', '/home/jovyan/fields_images_dataset.z04', '/home/jovyan/fields_images_dataset.z05', '/home/jovyan/fields_images_dataset.z06', '/home/jovyan/fields_images_dataset.z07', '/home/jovyan/fields_images_dataset.z08', '/home/jovyan/fields_images_dataset.z09', '/home/jovyan/fields_images_dataset.z10', '/home/jovyan/fields_images_dataset.z11', '/home/jovyan/fields_images_dataset.z12', '/home/jovyan/fields_images_dataset.z13', '/home/jovyan/fields_images_dataset.z14', '/home/jovyan/fields_images_dataset.z15', '/home/jovyan/fields_images_dataset.z16', '/home/jovyan/fields_images_dataset.z17', '/home/jovyan/fields_images_dataset.z18', '/home/jovyan/fields_images_dataset.z19', '/home/jovyan/fields_images_dataset.z20', '/home/jovyan/fields_images_dataset.z21', '/home/jovyan/fields_images_dataset.z22', '/home/jovyan/fields_images_dataset.z23', '/home/jovyan/fields_images_dataset.z24', '/home/jovyan/fields_images_dataset.z25', '/home/jovyan/fields_images_dataset.z26', '/home/jovyan/fields_images_dataset.z27', '/home/jovyan/fields_images_dataset.z28', '/home/jovyan/fields_images_dataset.z29', '/home/jovyan/fields_images_dataset.z30', '/home/jovyan/fields_images_dataset.z31', '/home/jovyan/fields_images_dataset.z32', '/home/jovyan/fields_images_dataset.z33', '/home/jovyan/fields_images_dataset.z34', '/home/jovyan/fields_images_dataset.z35', '/home/jovyan/fields_images_dataset.z36', '/home/jovyan/fields_images_dataset.z37']\n",
      "Создан объединённый архив: /home/jovyan/merged_archive.zip\n"
     ]
    }
   ],
   "source": [
    "import os\n",
    "\n",
    "base_dir = \"/home/jovyan\"  # Папка, где лежат все части\n",
    "merged_zip = os.path.join(base_dir, \"merged_archive.zip\")\n",
    "\n",
    "# Список файлов: fields_images_dataset.z01, fields_images_dataset.z02, ...\n",
    "# Предположим, что имена строго идут с ведущим 0: z01, z02, ...\n",
    "parts = []\n",
    "for i in range(1, 38):  # от 1 до 37 включительно\n",
    "    # Формируем имя файла с ведущим нулём\n",
    "    part_name = f\"fields_images_dataset.z{i:02}\"\n",
    "    full_path = os.path.join(base_dir, part_name)\n",
    "    if os.path.exists(full_path):\n",
    "        parts.append(full_path)\n",
    "    else:\n",
    "        break  # если какой-то части нет, прерываемся\n",
    "\n",
    "print(\"Найдены части архива:\", parts)\n",
    "\n",
    "# Последовательно записываем все части в один файл\n",
    "with open(merged_zip, \"wb\") as w:\n",
    "    for part_file in parts:\n",
    "        with open(part_file, \"rb\") as r:\n",
    "            w.write(r.read())\n",
    "\n",
    "print(f\"Создан объединённый архив: {merged_zip}\")"
   ]
  },
  {
   "cell_type": "code",
   "execution_count": 6,
   "id": "fe249608-30d9-4a78-a66e-3fd082fabe0e",
   "metadata": {},
   "outputs": [
    {
     "name": "stdout",
     "output_type": "stream",
     "text": [
      "Archive:  /home/jovyan/merged_archive.zip\n",
      "  End-of-central-directory signature not found.  Either this file is not\n",
      "  a zipfile, or it constitutes one disk of a multi-part archive.  In the\n",
      "  latter case the central directory and zipfile comment will be found on\n",
      "  the last disk(s) of this archive.\n",
      "unzip:  cannot find zipfile directory in one of /home/jovyan/merged_archive.zip or\n",
      "        /home/jovyan/merged_archive.zip.zip, and cannot find /home/jovyan/merged_archive.zip.ZIP, period.\n"
     ]
    }
   ],
   "source": [
    "!unzip /home/jovyan/merged_archive.zip -d /home/jovyan/cloudsprof"
   ]
  },
  {
   "cell_type": "code",
   "execution_count": 9,
   "id": "68694e7d-8922-4f52-8b3e-755d4e7c88e6",
   "metadata": {},
   "outputs": [
    {
     "name": "stdout",
     "output_type": "stream",
     "text": [
      "\n",
      "UNRAR 6.11 beta 1 freeware      Copyright (c) 1993-2022 Alexander Roshal\n",
      "\n",
      "fields_images_dataset.zip is not RAR archive\n",
      "No files to extract\n"
     ]
    }
   ],
   "source": [
    "!unrar x fields_images_dataset.zip"
   ]
  },
  {
   "cell_type": "code",
   "execution_count": null,
   "id": "c78c03f1-c3d1-4f8a-9a0d-0525e31a5191",
   "metadata": {},
   "outputs": [],
   "source": []
  }
 ],
 "metadata": {
  "kernelspec": {
   "display_name": "Python 3 (ipykernel)",
   "language": "python",
   "name": "python3"
  },
  "language_info": {
   "codemirror_mode": {
    "name": "ipython",
    "version": 3
   },
   "file_extension": ".py",
   "mimetype": "text/x-python",
   "name": "python",
   "nbconvert_exporter": "python",
   "pygments_lexer": "ipython3",
   "version": "3.9.19"
  }
 },
 "nbformat": 4,
 "nbformat_minor": 5
}
